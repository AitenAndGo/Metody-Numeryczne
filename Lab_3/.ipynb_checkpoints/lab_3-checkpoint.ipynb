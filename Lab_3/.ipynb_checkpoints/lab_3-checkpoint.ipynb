{
 "cells": [
  {
   "cell_type": "markdown",
   "metadata": {},
   "source": [
    "# Metody Numeryczne - Labolatorium nr. 3 (Aproksymacja) #\n",
    "\n",
    "**Imię i Nazwisko:** Bartosz Polak  \n",
    "**Numer Indeksu:** 267626  \n",
    "**Kierunek:** Mechatronika  \n",
    "**Data:** 14.11.2024  \n",
    "\n",
    "---"
   ]
  },
  {
   "cell_type": "markdown",
   "metadata": {},
   "source": [
    "## 1. Wstęp\n",
    "<div style=\"text-align: justify; line-height: 1.6; margin: 10px;\">\n",
    "Aproksymacja\n",
    "</div>"
   ]
  }
 ],
 "metadata": {
  "language_info": {
   "name": "python"
  }
 },
 "nbformat": 4,
 "nbformat_minor": 2
}
